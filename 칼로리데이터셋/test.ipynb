{
 "cells": [
  {
   "cell_type": "code",
   "execution_count": 140,
   "metadata": {},
   "outputs": [],
   "source": [
    "import pandas as pd\n",
    "import matplotlib.pyplot as plt\n",
    "plt.rcParams['font.family'] = 'Malgun Gothic'"
   ]
  },
  {
   "cell_type": "code",
   "execution_count": 113,
   "metadata": {},
   "outputs": [],
   "source": [
    "nut = pd.read_excel('음식분류 AI 데이터 영양DB.xlsx')"
   ]
  },
  {
   "cell_type": "code",
   "execution_count": 114,
   "metadata": {},
   "outputs": [
    {
     "data": {
      "text/plain": [
       "Index(['음 식 명', '중량(g)', '에너지(kcal)', '탄수화물(g)', '당류(g)', '지방(g)', '단백질(g)',\n",
       "       '칼슘(mg)', '인(mg)', '나트륨(mg)', '칼륨(mg)', '마그네슘(mg)', '철(mg)', '아연(mg)',\n",
       "       '콜레스테롤(mg)', '트랜스지방(g)'],\n",
       "      dtype='object')"
      ]
     },
     "execution_count": 114,
     "metadata": {},
     "output_type": "execute_result"
    }
   ],
   "source": [
    "nut.columns"
   ]
  },
  {
   "cell_type": "code",
   "execution_count": 115,
   "metadata": {},
   "outputs": [
    {
     "data": {
      "text/html": [
       "<div>\n",
       "<style scoped>\n",
       "    .dataframe tbody tr th:only-of-type {\n",
       "        vertical-align: middle;\n",
       "    }\n",
       "\n",
       "    .dataframe tbody tr th {\n",
       "        vertical-align: top;\n",
       "    }\n",
       "\n",
       "    .dataframe thead th {\n",
       "        text-align: right;\n",
       "    }\n",
       "</style>\n",
       "<table border=\"1\" class=\"dataframe\">\n",
       "  <thead>\n",
       "    <tr style=\"text-align: right;\">\n",
       "      <th></th>\n",
       "      <th>음 식 명</th>\n",
       "      <th>중량(g)</th>\n",
       "      <th>에너지(kcal)</th>\n",
       "      <th>탄수화물(g)</th>\n",
       "      <th>단백질(g)</th>\n",
       "      <th>지방(g)</th>\n",
       "      <th>나트륨(mg)</th>\n",
       "      <th>당류(g)</th>\n",
       "    </tr>\n",
       "  </thead>\n",
       "  <tbody>\n",
       "    <tr>\n",
       "      <th>0</th>\n",
       "      <td>쌀밥</td>\n",
       "      <td>210.0</td>\n",
       "      <td>334.8000</td>\n",
       "      <td>73.71000</td>\n",
       "      <td>5.76000</td>\n",
       "      <td>0.45000</td>\n",
       "      <td>59.40000</td>\n",
       "      <td>0.000000</td>\n",
       "    </tr>\n",
       "    <tr>\n",
       "      <th>1</th>\n",
       "      <td>기타잡곡밥</td>\n",
       "      <td>200.0</td>\n",
       "      <td>302.3620</td>\n",
       "      <td>65.52110</td>\n",
       "      <td>6.70920</td>\n",
       "      <td>0.74620</td>\n",
       "      <td>3.39200</td>\n",
       "      <td>0.000000</td>\n",
       "    </tr>\n",
       "    <tr>\n",
       "      <th>2</th>\n",
       "      <td>콩밥</td>\n",
       "      <td>200.0</td>\n",
       "      <td>322.9000</td>\n",
       "      <td>65.84600</td>\n",
       "      <td>8.42800</td>\n",
       "      <td>1.66600</td>\n",
       "      <td>4.10000</td>\n",
       "      <td>0.000000</td>\n",
       "    </tr>\n",
       "    <tr>\n",
       "      <th>3</th>\n",
       "      <td>보리밥</td>\n",
       "      <td>200.0</td>\n",
       "      <td>316.1000</td>\n",
       "      <td>70.57000</td>\n",
       "      <td>5.55000</td>\n",
       "      <td>0.14000</td>\n",
       "      <td>4.50000</td>\n",
       "      <td>0.000000</td>\n",
       "    </tr>\n",
       "    <tr>\n",
       "      <th>4</th>\n",
       "      <td>돌솥밥</td>\n",
       "      <td>350.0</td>\n",
       "      <td>528.8550</td>\n",
       "      <td>101.85000</td>\n",
       "      <td>10.18700</td>\n",
       "      <td>8.34700</td>\n",
       "      <td>618.31500</td>\n",
       "      <td>0.000000</td>\n",
       "    </tr>\n",
       "    <tr>\n",
       "      <th>...</th>\n",
       "      <td>...</td>\n",
       "      <td>...</td>\n",
       "      <td>...</td>\n",
       "      <td>...</td>\n",
       "      <td>...</td>\n",
       "      <td>...</td>\n",
       "      <td>...</td>\n",
       "      <td>...</td>\n",
       "    </tr>\n",
       "    <tr>\n",
       "      <th>395</th>\n",
       "      <td>다식</td>\n",
       "      <td>30.0</td>\n",
       "      <td>105.1665</td>\n",
       "      <td>20.81070</td>\n",
       "      <td>3.54630</td>\n",
       "      <td>1.72860</td>\n",
       "      <td>3.84900</td>\n",
       "      <td>6.455700</td>\n",
       "    </tr>\n",
       "    <tr>\n",
       "      <th>396</th>\n",
       "      <td>약과</td>\n",
       "      <td>30.0</td>\n",
       "      <td>113.8494</td>\n",
       "      <td>22.18320</td>\n",
       "      <td>2.57400</td>\n",
       "      <td>1.23870</td>\n",
       "      <td>16.45980</td>\n",
       "      <td>2.151900</td>\n",
       "    </tr>\n",
       "    <tr>\n",
       "      <th>397</th>\n",
       "      <td>유과</td>\n",
       "      <td>30.0</td>\n",
       "      <td>129.0600</td>\n",
       "      <td>24.13650</td>\n",
       "      <td>0.36090</td>\n",
       "      <td>3.50400</td>\n",
       "      <td>7.05540</td>\n",
       "      <td>1.120950</td>\n",
       "    </tr>\n",
       "    <tr>\n",
       "      <th>398</th>\n",
       "      <td>산자</td>\n",
       "      <td>30.0</td>\n",
       "      <td>121.6985</td>\n",
       "      <td>24.70195</td>\n",
       "      <td>0.91035</td>\n",
       "      <td>1.19665</td>\n",
       "      <td>8.01255</td>\n",
       "      <td>10.632825</td>\n",
       "    </tr>\n",
       "    <tr>\n",
       "      <th>399</th>\n",
       "      <td>깨강정</td>\n",
       "      <td>30.0</td>\n",
       "      <td>150.3000</td>\n",
       "      <td>13.62000</td>\n",
       "      <td>4.50000</td>\n",
       "      <td>9.87000</td>\n",
       "      <td>24.30000</td>\n",
       "      <td>0.000000</td>\n",
       "    </tr>\n",
       "  </tbody>\n",
       "</table>\n",
       "<p>400 rows × 8 columns</p>\n",
       "</div>"
      ],
      "text/plain": [
       "     음 식 명  중량(g)  에너지(kcal)    탄수화물(g)    단백질(g)    지방(g)    나트륨(mg)   \n",
       "0       쌀밥  210.0   334.8000   73.71000   5.76000  0.45000   59.40000  \\\n",
       "1    기타잡곡밥  200.0   302.3620   65.52110   6.70920  0.74620    3.39200   \n",
       "2       콩밥  200.0   322.9000   65.84600   8.42800  1.66600    4.10000   \n",
       "3      보리밥  200.0   316.1000   70.57000   5.55000  0.14000    4.50000   \n",
       "4      돌솥밥  350.0   528.8550  101.85000  10.18700  8.34700  618.31500   \n",
       "..     ...    ...        ...        ...       ...      ...        ...   \n",
       "395     다식   30.0   105.1665   20.81070   3.54630  1.72860    3.84900   \n",
       "396     약과   30.0   113.8494   22.18320   2.57400  1.23870   16.45980   \n",
       "397     유과   30.0   129.0600   24.13650   0.36090  3.50400    7.05540   \n",
       "398     산자   30.0   121.6985   24.70195   0.91035  1.19665    8.01255   \n",
       "399    깨강정   30.0   150.3000   13.62000   4.50000  9.87000   24.30000   \n",
       "\n",
       "         당류(g)  \n",
       "0     0.000000  \n",
       "1     0.000000  \n",
       "2     0.000000  \n",
       "3     0.000000  \n",
       "4     0.000000  \n",
       "..         ...  \n",
       "395   6.455700  \n",
       "396   2.151900  \n",
       "397   1.120950  \n",
       "398  10.632825  \n",
       "399   0.000000  \n",
       "\n",
       "[400 rows x 8 columns]"
      ]
     },
     "execution_count": 115,
     "metadata": {},
     "output_type": "execute_result"
    }
   ],
   "source": [
    "nut[['음 식 명','중량(g)','에너지(kcal)','탄수화물(g)','단백질(g)','지방(g)','나트륨(mg)','당류(g)']]"
   ]
  },
  {
   "cell_type": "code",
   "execution_count": 116,
   "metadata": {},
   "outputs": [],
   "source": [
    "# nut['중량(g)']/nut['중량(g)']*100"
   ]
  },
  {
   "cell_type": "code",
   "execution_count": 117,
   "metadata": {},
   "outputs": [],
   "source": [
    "nut = nut.replace('-','0')"
   ]
  },
  {
   "cell_type": "code",
   "execution_count": 118,
   "metadata": {},
   "outputs": [],
   "source": [
    "columns = nut.columns.drop('음 식 명')\n",
    "nut[columns] = nut[columns].astype(float)"
   ]
  },
  {
   "cell_type": "code",
   "execution_count": 119,
   "metadata": {},
   "outputs": [],
   "source": [
    "# nut['비율'] = 100/nut['중량(g)']\n",
    "\n",
    "\n",
    "# # 영양정보 데이터 조정\n",
    "# numeric_columns = nut.columns.drop(['음 식 명', '중량(g)', '비율'])\n",
    "# nut[numeric_columns] = nut[numeric_columns].mul(nut['비율'], axis=0)\n",
    "\n",
    "# # 중량을 100으로 조정\n",
    "# nut['중량(g)'] = 100\n",
    "\n",
    "# nut.drop('비율',axis=1,inplace=True)"
   ]
  },
  {
   "cell_type": "code",
   "execution_count": 120,
   "metadata": {},
   "outputs": [
    {
     "data": {
      "text/plain": [
       "Index(['음 식 명', '중량(g)', '에너지(kcal)', '탄수화물(g)', '당류(g)', '지방(g)', '단백질(g)',\n",
       "       '칼슘(mg)', '인(mg)', '나트륨(mg)', '칼륨(mg)', '마그네슘(mg)', '철(mg)', '아연(mg)',\n",
       "       '콜레스테롤(mg)', '트랜스지방(g)'],\n",
       "      dtype='object')"
      ]
     },
     "execution_count": 120,
     "metadata": {},
     "output_type": "execute_result"
    }
   ],
   "source": [
    "nut.columns"
   ]
  },
  {
   "cell_type": "code",
   "execution_count": 147,
   "metadata": {},
   "outputs": [],
   "source": [
    "nut = nut[['음 식 명','중량(g)','에너지(kcal)','탄수화물(g)','단백질(g)','지방(g)','나트륨(mg)','당류(g)']]"
   ]
  },
  {
   "cell_type": "code",
   "execution_count": 150,
   "metadata": {},
   "outputs": [
    {
     "name": "stdout",
     "output_type": "stream",
     "text": [
      "에너지(kcal)    598.9494\n",
      "탄수화물(g)      109.5132\n",
      "단백질(g)         12.834\n",
      "지방(g)         11.5587\n",
      "나트륨(mg)      100.1598\n",
      "당류(g)          2.1519\n",
      "dtype: object\n"
     ]
    }
   ],
   "source": [
    "x = ['쌀밥','마라탕','약과','깨강정']\n",
    "result = nut.loc[nut['음 식 명'].isin(x)].sum()\n",
    "result.drop(['음 식 명','중량(g)'],inplace=True)\n",
    "print(result)"
   ]
  },
  {
   "cell_type": "code",
   "execution_count": 151,
   "metadata": {},
   "outputs": [
    {
     "data": {
      "text/plain": [
       "<Figure size 1000x600 with 0 Axes>"
      ]
     },
     "metadata": {},
     "output_type": "display_data"
    },
    {
     "data": {
      "image/png": "[encoded data removed]",
      "text/plain": [
       "<Figure size 640x480 with 1 Axes>"
      ]
     },
     "metadata": {},
     "output_type": "display_data"
    }
   ],
   "source": [
    "df = pd.DataFrame(result)\n",
    "\n",
    "# 막대 그래프 그리기\n",
    "plt.figure(figsize=(10, 6))\n",
    "df.plot(kind='barh', stacked=True)\n",
    "\n",
    "# 막대에 값 표시\n",
    "for i, row in enumerate(df.itertuples()):\n",
    "    for j, value in enumerate(row[1:]):\n",
    "        plt.text(value + 10, i, f'{value:.2f}', color='black', fontweight='bold')\n",
    "\n",
    "# 항목 표시\n",
    "plt.yticks(range(len(df)), df.index)\n",
    "\n",
    "# 축 레이블 및 제목 설정\n",
    "plt.xlabel('누적 값')\n",
    "plt.title('영양 정보 (누적)')\n",
    "\n",
    "# 그래프 출력\n",
    "plt.show()"
   ]
  },
  {
   "cell_type": "code",
   "execution_count": null,
   "metadata": {},
   "outputs": [],
   "source": []
  }
 ],
 "metadata": {
  "kernelspec": {
   "display_name": "base",
   "language": "python",
   "name": "python3"
  },
  "language_info": {
   "codemirror_mode": {
    "name": "ipython",
    "version": 3
   },
   "file_extension": ".py",
   "mimetype": "text/x-python",
   "name": "python",
   "nbconvert_exporter": "python",
   "pygments_lexer": "ipython3",
   "version": "3.10.9"
  },
  "orig_nbformat": 4
 },
 "nbformat": 4,
 "nbformat_minor": 2
}
